{
 "cells": [
  {
   "cell_type": "markdown",
   "metadata": {},
   "source": [
    "# 08/10/2017\n",
    "#Assignment 1: Logistic Regression\n",
    "Dataset: Diabetes.data\n"
   ]
  },
  {
   "cell_type": "code",
   "execution_count": 1,
   "metadata": {
    "collapsed": true
   },
   "outputs": [],
   "source": [
    "%matplotlib inline"
   ]
  },
  {
   "cell_type": "code",
   "execution_count": 2,
   "metadata": {},
   "outputs": [
    {
     "name": "stdout",
     "output_type": "stream",
     "text": [
      "Automatically created module for IPython interactive environment\n"
     ]
    }
   ],
   "source": [
    "print(__doc__)"
   ]
  },
  {
   "cell_type": "code",
   "execution_count": 15,
   "metadata": {},
   "outputs": [],
   "source": [
    "import matplotlib.pyplot as plt\n",
    "import numpy as np\n",
    "import pandas as pd\n",
    "from sklearn.linear_model import LogisticRegression \n",
    "from sklearn.metrics import mean_squared_error, r2_score"
   ]
  },
  {
   "cell_type": "markdown",
   "metadata": {},
   "source": [
    "Load Data"
   ]
  },
  {
   "cell_type": "code",
   "execution_count": 24,
   "metadata": {
    "collapsed": true
   },
   "outputs": [],
   "source": [
    "# Load the diabetes dataset\n",
    "diabetes = datasets.load_diabetes()"
   ]
  },
  {
   "cell_type": "code",
   "execution_count": 25,
   "metadata": {
    "collapsed": true
   },
   "outputs": [],
   "source": [
    "# Use only one feature\n",
    "diabetes_X = diabetes.data[:, np.newaxis, 2]"
   ]
  },
  {
   "cell_type": "code",
   "execution_count": 26,
   "metadata": {
    "collapsed": true
   },
   "outputs": [],
   "source": [
    "# Split the data into training/testing sets\n",
    "diabetes_X_train = diabetes_X[:-20]\n",
    "diabetes_X_test = diabetes_X[-20:]"
   ]
  },
  {
   "cell_type": "code",
   "execution_count": 27,
   "metadata": {
    "collapsed": true
   },
   "outputs": [],
   "source": [
    "# Split the targets into training/testing sets\n",
    "diabetes_y_train = diabetes.target[:-20]\n",
    "diabetes_y_test = diabetes.target[-20:]"
   ]
  },
  {
   "cell_type": "code",
   "execution_count": 30,
   "metadata": {
    "collapsed": true
   },
   "outputs": [],
   "source": [
    "# Create logistic regression object\n",
    "regr = linear_model.LogisticRegression()"
   ]
  },
  {
   "cell_type": "code",
   "execution_count": 31,
   "metadata": {},
   "outputs": [
    {
     "data": {
      "text/plain": [
       "LogisticRegression(C=1.0, class_weight=None, dual=False, fit_intercept=True,\n",
       "          intercept_scaling=1, max_iter=100, multi_class='ovr', n_jobs=1,\n",
       "          penalty='l2', random_state=None, solver='liblinear', tol=0.0001,\n",
       "          verbose=0, warm_start=False)"
      ]
     },
     "execution_count": 31,
     "metadata": {},
     "output_type": "execute_result"
    }
   ],
   "source": [
    "# Train the model using the training sets\n",
    "regr.fit(diabetes_X_train, diabetes_y_train)"
   ]
  },
  {
   "cell_type": "code",
   "execution_count": 32,
   "metadata": {
    "collapsed": true
   },
   "outputs": [],
   "source": [
    "# Make predictions using the testing set\n",
    "diabetes_y_pred = regr.predict(diabetes_X_test)"
   ]
  },
  {
   "cell_type": "code",
   "execution_count": 33,
   "metadata": {},
   "outputs": [
    {
     "name": "stdout",
     "output_type": "stream",
     "text": [
      "Coefficients: \n",
      " [[ -1.28945920e-02]\n",
      " [ -1.07645310e-02]\n",
      " [ -6.50815616e-02]\n",
      " [ -6.61642781e-02]\n",
      " [ -4.05855059e-02]\n",
      " [ -1.27648614e-01]\n",
      " [ -3.31302348e-02]\n",
      " [ -4.37273811e-03]\n",
      " [ -6.40165098e-02]\n",
      " [ -6.82904741e-02]\n",
      " [ -6.72273757e-02]\n",
      " [ -9.47962288e-02]\n",
      " [ -3.84554263e-02]\n",
      " [ -1.04319492e-01]\n",
      " [  2.06299657e-02]\n",
      " [ -1.46626336e-01]\n",
      " [ -3.52603102e-02]\n",
      " [ -1.04285394e-01]\n",
      " [ -2.67400182e-02]\n",
      " [ -1.38158092e-01]\n",
      " [ -6.08823067e-02]\n",
      " [ -1.72624836e-02]\n",
      " [ -1.85792372e-01]\n",
      " [ -1.03294451e-01]\n",
      " [ -1.61445837e-01]\n",
      " [ -2.67400182e-02]\n",
      " [  4.14586827e-03]\n",
      " [ -8.88841139e-03]\n",
      " [ -6.08823067e-02]\n",
      " [ -2.57670647e-02]\n",
      " [ -1.58140939e-01]\n",
      " [ -2.81770097e-01]\n",
      " [  9.50881280e-04]\n",
      " [ -7.36059785e-02]\n",
      " [ -9.47962288e-02]\n",
      " [ -2.02729259e-01]\n",
      " [ -7.82732403e-03]\n",
      " [ -6.82767207e-02]\n",
      " [ -1.92847819e-02]\n",
      " [ -2.04516987e-02]\n",
      " [ -1.32950713e-01]\n",
      " [ -4.82110935e-02]\n",
      " [  1.53345399e-02]\n",
      " [ -6.08213578e-02]\n",
      " [ -8.41734794e-02]\n",
      " [ -1.22280211e-01]\n",
      " [ -8.73603010e-02]\n",
      " [ -9.79142217e-02]\n",
      " [  1.23332947e-02]\n",
      " [ -3.10824412e-02]\n",
      " [ -8.52357529e-02]\n",
      " [ -1.03294451e-01]\n",
      " [  5.39629904e-02]\n",
      " [ -1.63562916e-01]\n",
      " [ -8.84077085e-02]\n",
      " [ -2.78050533e-02]\n",
      " [ -1.72624836e-02]\n",
      " [ -1.07645310e-02]\n",
      " [ -1.81730525e-01]\n",
      " [ -1.13863202e-01]\n",
      " [ -1.31643452e-03]\n",
      " [ -1.38252822e-01]\n",
      " [ -1.93886266e-02]\n",
      " [ -3.20651977e-02]\n",
      " [  1.00391146e-02]\n",
      " [  3.37647110e-02]\n",
      " [ -7.04166734e-02]\n",
      " [ -2.26825792e-02]\n",
      " [ -4.80407988e-02]\n",
      " [ -6.51011812e-02]\n",
      " [ -8.41734794e-02]\n",
      " [ -4.39045387e-02]\n",
      " [  8.79119609e-02]\n",
      " [  5.18368518e-02]\n",
      " [ -1.14180746e-04]\n",
      " [ -5.65964338e-02]\n",
      " [ -3.73903872e-02]\n",
      " [ -7.56944158e-03]\n",
      " [ -3.21455179e-02]\n",
      " [  1.95708804e-02]\n",
      " [  7.02787415e-03]\n",
      " [  4.49889863e-02]\n",
      " [  5.73971193e-02]\n",
      " [ -8.41734794e-02]\n",
      " [ -9.37339525e-02]\n",
      " [  5.52670684e-02]\n",
      " [ -3.74609088e-02]\n",
      " [ -4.38393953e-02]\n",
      " [  1.14403430e-02]\n",
      " [  5.50260601e-02]\n",
      " [  1.07757713e-01]\n",
      " [ -6.90626573e-03]\n",
      " [ -4.49024784e-02]\n",
      " [  3.86344435e-02]\n",
      " [  2.54463805e-02]\n",
      " [ -3.84554263e-02]\n",
      " [  3.71616488e-02]\n",
      " [ -2.24798811e-02]\n",
      " [ -1.77959076e-03]\n",
      " [  5.15934660e-02]\n",
      " [ -2.88700889e-02]\n",
      " [ -6.72116670e-02]\n",
      " [ -3.31302348e-02]\n",
      " [  2.95124492e-02]\n",
      " [ -2.46099489e-02]\n",
      " [ -1.28890738e-01]\n",
      " [ -4.49024784e-02]\n",
      " [ -1.07645310e-02]\n",
      " [ -5.97563083e-02]\n",
      " [  2.52601887e-02]\n",
      " [  4.22692408e-02]\n",
      " [  3.92916975e-02]\n",
      " [  3.50316002e-02]\n",
      " [ -6.40656626e-02]\n",
      " [ -6.40656626e-02]\n",
      " [ -2.03498147e-02]\n",
      " [ -3.44262252e-03]\n",
      " [  1.47961305e-02]\n",
      " [  5.18368518e-02]\n",
      " [  4.24867707e-02]\n",
      " [ -1.07645310e-02]\n",
      " [ -1.00835314e-02]\n",
      " [ -4.17132309e-02]\n",
      " [  1.16592550e-01]\n",
      " [ -6.61642781e-02]\n",
      " [  2.08219654e-02]\n",
      " [  3.29015516e-02]\n",
      " [ -8.09905443e-02]\n",
      " [  5.73971193e-02]\n",
      " [  5.10069679e-02]\n",
      " [ -5.23009768e-02]\n",
      " [ -4.80917313e-02]\n",
      " [  1.56926038e-02]\n",
      " [  5.10069679e-02]\n",
      " [  4.03567219e-02]\n",
      " [  2.41971236e-02]\n",
      " [  8.25114659e-03]\n",
      " [  6.64031416e-02]\n",
      " [ -2.78050533e-02]\n",
      " [ -2.61901591e-02]\n",
      " [  1.26660792e-02]\n",
      " [  5.44885712e-02]\n",
      " [ -5.23440772e-02]\n",
      " [  2.97064785e-02]\n",
      " [ -2.99351248e-02]\n",
      " [  7.34094857e-03]\n",
      " [  1.37311049e-02]\n",
      " [ -1.19165276e-01]\n",
      " [  5.73971193e-02]\n",
      " [ -1.60896856e-02]\n",
      " [  5.71522005e-02]\n",
      " [ -2.78932140e-02]\n",
      " [  1.49112254e-01]\n",
      " [  4.67468688e-02]\n",
      " [  2.75764296e-02]\n",
      " [  4.01431074e-02]\n",
      " [ -1.17924180e-03]\n",
      " [  4.33323078e-02]\n",
      " [  6.45937026e-02]\n",
      " [  1.12343576e-01]\n",
      " [  1.88817988e-02]\n",
      " [  3.18365272e-02]\n",
      " [  1.29440846e-01]\n",
      " [ -2.24798811e-02]\n",
      " [  2.40458210e-01]\n",
      " [  1.53890675e-01]\n",
      " [  2.75764296e-02]\n",
      " [  5.92783422e-02]\n",
      " [  5.60891301e-02]\n",
      " [  4.31047554e-02]\n",
      " [  3.08084115e-03]\n",
      " [ -1.52549424e-02]\n",
      " [ -4.05855059e-02]\n",
      " [  6.67198494e-02]\n",
      " [  1.53353748e-01]\n",
      " [  1.90466866e-01]\n",
      " [  8.18927527e-02]\n",
      " [  1.03772776e-02]\n",
      " [  1.48575514e-01]\n",
      " [  8.50878440e-02]\n",
      " [  6.11432961e-02]\n",
      " [  7.20352238e-02]\n",
      " [  1.33693006e-01]\n",
      " [  9.74721606e-02]\n",
      " [  1.58611559e-02]\n",
      " [  9.25430672e-02]\n",
      " [  2.94764207e-01]\n",
      " [  8.40597500e-03]\n",
      " [  7.20352238e-02]\n",
      " [  8.50878440e-02]\n",
      " [  4.67468688e-02]\n",
      " [  1.77271849e-01]\n",
      " [  1.67556688e-02]\n",
      " [  6.69823553e-02]\n",
      " [ -1.61994127e-02]\n",
      " [  5.10069679e-02]\n",
      " [  6.80473823e-02]\n",
      " [  2.86414540e-02]\n",
      " [  1.16010534e-02]\n",
      " [  2.54463805e-02]\n",
      " [  5.31370180e-02]\n",
      " [  8.18927527e-02]\n",
      " [  1.23430400e-01]\n",
      " [  9.10986946e-02]\n",
      " [  3.08084115e-03]\n",
      " [  4.46168196e-02]\n",
      " [  1.01064944e-01]\n",
      " [  7.33725204e-02]\n",
      " [  1.07455091e-01]\n",
      " [  1.21300363e-01]\n",
      " [  1.56445771e-01]]\n"
     ]
    }
   ],
   "source": [
    "# The coefficients\n",
    "print('Coefficients: \\n', regr.coef_)"
   ]
  },
  {
   "cell_type": "code",
   "execution_count": 34,
   "metadata": {},
   "outputs": [
    {
     "name": "stdout",
     "output_type": "stream",
     "text": [
      "Mean squared error: 10277.60\n"
     ]
    }
   ],
   "source": [
    "# The mean squared error\n",
    "print(\"Mean squared error: %.2f\"\n",
    "      % mean_squared_error(diabetes_y_test, diabetes_y_pred))"
   ]
  },
  {
   "cell_type": "code",
   "execution_count": 35,
   "metadata": {},
   "outputs": [
    {
     "name": "stdout",
     "output_type": "stream",
     "text": [
      "Variance score: -1.13\n"
     ]
    }
   ],
   "source": [
    "# Explained variance score: 1 is perfect prediction\n",
    "print('Variance score: %.2f' % r2_score(diabetes_y_test, diabetes_y_pred))"
   ]
  },
  {
   "cell_type": "code",
   "execution_count": 36,
   "metadata": {},
   "outputs": [
    {
     "data": {
      "image/png": "[encoded data removed]",
      "text/plain": [
       "<matplotlib.figure.Figure at 0xb3c9170>"
      ]
     },
     "metadata": {},
     "output_type": "display_data"
    }
   ],
   "source": [
    "# Plot outputs\n",
    "plt.scatter(diabetes_X_test, diabetes_y_test,  color='black')\n",
    "plt.plot(diabetes_X_test, diabetes_y_pred, color='blue', linewidth=3)\n",
    "\n",
    "plt.xticks(())\n",
    "plt.yticks(())\n",
    "\n",
    "plt.show()"
   ]
  },
  {
   "cell_type": "code",
   "execution_count": null,
   "metadata": {},
   "outputs": [],
   "source": []
  },
  {
   "cell_type": "code",
   "execution_count": null,
   "metadata": {
    "collapsed": true
   },
   "outputs": [],
   "source": []
  }
 ],
 "metadata": {
  "kernelspec": {
   "display_name": "Python 3",
   "language": "python",
   "name": "python3"
  },
  "language_info": {
   "codemirror_mode": {
    "name": "ipython",
    "version": 3
   },
   "file_extension": ".py",
   "mimetype": "text/x-python",
   "name": "python",
   "nbconvert_exporter": "python",
   "pygments_lexer": "ipython3",
   "version": "3.6.2"
  }
 },
 "nbformat": 4,
 "nbformat_minor": 2
}
